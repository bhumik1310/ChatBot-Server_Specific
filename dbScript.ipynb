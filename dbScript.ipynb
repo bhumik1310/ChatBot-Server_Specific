{
  "cells": [
    {
      "cell_type": "code",
      "execution_count": null,
      "metadata": {
        "colab": {
          "base_uri": "https://localhost:8080/"
        },
        "id": "aeLAJpd03qPA",
        "outputId": "8bcf010e-7095-462a-c4fb-8e195f8e9d79"
      },
      "outputs": [],
      "source": []
    },
    {
      "cell_type": "code",
      "execution_count": 22,
      "metadata": {
        "id": "u3Kykl0C4CQr"
      },
      "outputs": [
        {
          "name": "stdout",
          "output_type": "stream",
          "text": [
            "Defaulting to user installation because normal site-packages is not writeable\n",
            "Requirement already satisfied: pdf2image in ./.local/lib/python3.10/site-packages (1.16.3)\n",
            "Requirement already satisfied: pytesseract in ./.local/lib/python3.10/site-packages (0.3.10)\n",
            "Requirement already satisfied: tiktoken in ./.local/lib/python3.10/site-packages (0.4.0)\n",
            "Requirement already satisfied: langchain in ./.local/lib/python3.10/site-packages (0.0.237)\n",
            "Requirement already satisfied: chromadb in ./.local/lib/python3.10/site-packages (0.3.29)\n",
            "Requirement already satisfied: sentence_transformers in ./.local/lib/python3.10/site-packages (2.2.2)\n",
            "Collecting unstructured\n",
            "  Using cached unstructured-0.8.1-py3-none-any.whl (1.4 MB)\n",
            "Requirement already satisfied: pillow in /usr/lib/python3/dist-packages (from pdf2image) (9.0.1)\n",
            "Requirement already satisfied: packaging>=21.3 in /usr/local/lib/python3.10/dist-packages (from pytesseract) (23.1)\n",
            "Requirement already satisfied: regex>=2022.1.18 in ./.local/lib/python3.10/site-packages (from tiktoken) (2023.6.3)\n",
            "Requirement already satisfied: requests>=2.26.0 in ./.local/lib/python3.10/site-packages (from tiktoken) (2.31.0)\n",
            "Requirement already satisfied: PyYAML>=5.4.1 in /usr/lib/python3/dist-packages (from langchain) (5.4.1)\n",
            "Requirement already satisfied: SQLAlchemy<3,>=1.4 in ./.local/lib/python3.10/site-packages (from langchain) (2.0.19)\n",
            "Requirement already satisfied: aiohttp<4.0.0,>=3.8.3 in ./.local/lib/python3.10/site-packages (from langchain) (3.8.5)\n",
            "Requirement already satisfied: async-timeout<5.0.0,>=4.0.0 in ./.local/lib/python3.10/site-packages (from langchain) (4.0.2)\n",
            "Requirement already satisfied: dataclasses-json<0.6.0,>=0.5.7 in ./.local/lib/python3.10/site-packages (from langchain) (0.5.12)\n",
            "Requirement already satisfied: langsmith<0.0.11,>=0.0.10 in ./.local/lib/python3.10/site-packages (from langchain) (0.0.10)\n",
            "Requirement already satisfied: numexpr<3.0.0,>=2.8.4 in ./.local/lib/python3.10/site-packages (from langchain) (2.8.4)\n",
            "Requirement already satisfied: numpy<2,>=1 in /usr/local/lib/python3.10/dist-packages (from langchain) (1.25.1)\n",
            "Requirement already satisfied: openapi-schema-pydantic<2.0,>=1.2 in ./.local/lib/python3.10/site-packages (from langchain) (1.2.4)\n",
            "Requirement already satisfied: pydantic<2,>=1 in ./.local/lib/python3.10/site-packages (from langchain) (1.10.11)\n",
            "Requirement already satisfied: tenacity<9.0.0,>=8.1.0 in ./.local/lib/python3.10/site-packages (from langchain) (8.2.2)\n",
            "Requirement already satisfied: pandas>=1.3 in /usr/local/lib/python3.10/dist-packages (from chromadb) (2.0.3)\n",
            "Requirement already satisfied: hnswlib>=0.7 in ./.local/lib/python3.10/site-packages (from chromadb) (0.7.0)\n",
            "Requirement already satisfied: clickhouse-connect>=0.5.7 in ./.local/lib/python3.10/site-packages (from chromadb) (0.6.8)\n",
            "Requirement already satisfied: duckdb>=0.7.1 in ./.local/lib/python3.10/site-packages (from chromadb) (0.8.1)\n",
            "Requirement already satisfied: fastapi==0.85.1 in ./.local/lib/python3.10/site-packages (from chromadb) (0.85.1)\n",
            "Requirement already satisfied: uvicorn[standard]>=0.18.3 in ./.local/lib/python3.10/site-packages (from chromadb) (0.23.1)\n",
            "Requirement already satisfied: posthog>=2.4.0 in ./.local/lib/python3.10/site-packages (from chromadb) (3.0.1)\n",
            "Requirement already satisfied: typing-extensions>=4.5.0 in /usr/local/lib/python3.10/dist-packages (from chromadb) (4.7.1)\n",
            "Requirement already satisfied: pulsar-client>=3.1.0 in ./.local/lib/python3.10/site-packages (from chromadb) (3.2.0)\n",
            "Requirement already satisfied: onnxruntime>=1.14.1 in ./.local/lib/python3.10/site-packages (from chromadb) (1.15.1)\n",
            "Requirement already satisfied: tokenizers>=0.13.2 in ./.local/lib/python3.10/site-packages (from chromadb) (0.13.3)\n",
            "Requirement already satisfied: tqdm>=4.65.0 in /usr/local/lib/python3.10/dist-packages (from chromadb) (4.65.0)\n",
            "Requirement already satisfied: overrides>=7.3.1 in ./.local/lib/python3.10/site-packages (from chromadb) (7.3.1)\n",
            "Requirement already satisfied: starlette==0.20.4 in ./.local/lib/python3.10/site-packages (from fastapi==0.85.1->chromadb) (0.20.4)\n",
            "Requirement already satisfied: anyio<5,>=3.4.0 in ./.local/lib/python3.10/site-packages (from starlette==0.20.4->fastapi==0.85.1->chromadb) (3.7.1)\n",
            "Requirement already satisfied: huggingface-hub>=0.4.0 in ./.local/lib/python3.10/site-packages (from sentence_transformers) (0.16.4)\n",
            "Requirement already satisfied: nltk in ./.local/lib/python3.10/site-packages (from sentence_transformers) (3.8.1)\n",
            "Requirement already satisfied: scikit-learn in ./.local/lib/python3.10/site-packages (from sentence_transformers) (1.3.0)\n",
            "Requirement already satisfied: scipy in /usr/local/lib/python3.10/dist-packages (from sentence_transformers) (1.11.1)\n",
            "Requirement already satisfied: sentencepiece in ./.local/lib/python3.10/site-packages (from sentence_transformers) (0.1.99)\n",
            "Requirement already satisfied: torch>=1.6.0 in /usr/local/lib/python3.10/dist-packages (from sentence_transformers) (2.0.1)\n",
            "Requirement already satisfied: torchvision in /usr/local/lib/python3.10/dist-packages (from sentence_transformers) (0.15.2)\n",
            "Requirement already satisfied: transformers<5.0.0,>=4.6.0 in ./.local/lib/python3.10/site-packages (from sentence_transformers) (4.31.0)\n",
            "Requirement already satisfied: chardet in /usr/lib/python3/dist-packages (from unstructured) (4.0.0)\n",
            "Collecting filetype (from unstructured)\n",
            "  Using cached filetype-1.2.0-py2.py3-none-any.whl (19 kB)\n",
            "Collecting lxml (from unstructured)\n",
            "  Using cached lxml-4.9.3-cp310-cp310-manylinux_2_28_x86_64.whl (7.9 MB)\n",
            "Collecting msg-parser (from unstructured)\n",
            "  Using cached msg_parser-1.2.0-py2.py3-none-any.whl (101 kB)\n",
            "Collecting openpyxl (from unstructured)\n",
            "  Using cached openpyxl-3.1.2-py2.py3-none-any.whl (249 kB)\n",
            "Collecting pdfminer.six (from unstructured)\n",
            "  Using cached pdfminer.six-20221105-py3-none-any.whl (5.6 MB)\n",
            "Collecting pypandoc (from unstructured)\n",
            "  Using cached pypandoc-1.11-py3-none-any.whl (20 kB)\n",
            "Collecting python-docx (from unstructured)\n",
            "  Using cached python-docx-0.8.11.tar.gz (5.6 MB)\n",
            "  Preparing metadata (setup.py) ... \u001b[?25ldone\n",
            "\u001b[?25hCollecting python-pptx (from unstructured)\n",
            "  Using cached python-pptx-0.6.21.tar.gz (10.1 MB)\n",
            "  Preparing metadata (setup.py) ... \u001b[?25ldone\n",
            "\u001b[?25hCollecting python-magic (from unstructured)\n",
            "  Using cached python_magic-0.4.27-py2.py3-none-any.whl (13 kB)\n",
            "Collecting markdown (from unstructured)\n",
            "  Using cached Markdown-3.4.3-py3-none-any.whl (93 kB)\n",
            "Collecting tabulate (from unstructured)\n",
            "  Using cached tabulate-0.9.0-py3-none-any.whl (35 kB)\n",
            "Collecting xlrd (from unstructured)\n",
            "  Using cached xlrd-2.0.1-py2.py3-none-any.whl (96 kB)\n",
            "Requirement already satisfied: attrs>=17.3.0 in ./.local/lib/python3.10/site-packages (from aiohttp<4.0.0,>=3.8.3->langchain) (23.1.0)\n",
            "Requirement already satisfied: charset-normalizer<4.0,>=2.0 in ./.local/lib/python3.10/site-packages (from aiohttp<4.0.0,>=3.8.3->langchain) (3.2.0)\n",
            "Requirement already satisfied: multidict<7.0,>=4.5 in ./.local/lib/python3.10/site-packages (from aiohttp<4.0.0,>=3.8.3->langchain) (6.0.4)\n",
            "Requirement already satisfied: yarl<2.0,>=1.0 in ./.local/lib/python3.10/site-packages (from aiohttp<4.0.0,>=3.8.3->langchain) (1.9.2)\n",
            "Requirement already satisfied: frozenlist>=1.1.1 in ./.local/lib/python3.10/site-packages (from aiohttp<4.0.0,>=3.8.3->langchain) (1.4.0)\n",
            "Requirement already satisfied: aiosignal>=1.1.2 in ./.local/lib/python3.10/site-packages (from aiohttp<4.0.0,>=3.8.3->langchain) (1.3.1)\n",
            "Requirement already satisfied: certifi in /usr/lib/python3/dist-packages (from clickhouse-connect>=0.5.7->chromadb) (2020.6.20)\n",
            "Requirement already satisfied: importlib-metadata in /usr/lib/python3/dist-packages (from clickhouse-connect>=0.5.7->chromadb) (4.6.4)\n",
            "Requirement already satisfied: urllib3>=1.26 in /usr/lib/python3/dist-packages (from clickhouse-connect>=0.5.7->chromadb) (1.26.5)\n",
            "Requirement already satisfied: pytz in /usr/lib/python3/dist-packages (from clickhouse-connect>=0.5.7->chromadb) (2022.1)\n",
            "Requirement already satisfied: zstandard in ./.local/lib/python3.10/site-packages (from clickhouse-connect>=0.5.7->chromadb) (0.21.0)\n",
            "Requirement already satisfied: lz4 in ./.local/lib/python3.10/site-packages (from clickhouse-connect>=0.5.7->chromadb) (4.3.2)\n",
            "Requirement already satisfied: marshmallow<4.0.0,>=3.18.0 in ./.local/lib/python3.10/site-packages (from dataclasses-json<0.6.0,>=0.5.7->langchain) (3.19.0)\n",
            "Requirement already satisfied: typing-inspect<1,>=0.4.0 in ./.local/lib/python3.10/site-packages (from dataclasses-json<0.6.0,>=0.5.7->langchain) (0.9.0)\n",
            "Requirement already satisfied: filelock in /usr/local/lib/python3.10/dist-packages (from huggingface-hub>=0.4.0->sentence_transformers) (3.12.2)\n",
            "Requirement already satisfied: fsspec in ./.local/lib/python3.10/site-packages (from huggingface-hub>=0.4.0->sentence_transformers) (2023.6.0)\n",
            "Requirement already satisfied: coloredlogs in ./.local/lib/python3.10/site-packages (from onnxruntime>=1.14.1->chromadb) (15.0.1)\n",
            "Requirement already satisfied: flatbuffers in ./.local/lib/python3.10/site-packages (from onnxruntime>=1.14.1->chromadb) (23.5.26)\n",
            "Requirement already satisfied: protobuf in /usr/lib/python3/dist-packages (from onnxruntime>=1.14.1->chromadb) (3.12.4)\n",
            "Requirement already satisfied: sympy in /usr/local/lib/python3.10/dist-packages (from onnxruntime>=1.14.1->chromadb) (1.12)\n",
            "Requirement already satisfied: python-dateutil>=2.8.2 in /usr/local/lib/python3.10/dist-packages (from pandas>=1.3->chromadb) (2.8.2)\n",
            "Requirement already satisfied: tzdata>=2022.1 in /usr/local/lib/python3.10/dist-packages (from pandas>=1.3->chromadb) (2023.3)\n",
            "Requirement already satisfied: six>=1.5 in /usr/lib/python3/dist-packages (from posthog>=2.4.0->chromadb) (1.16.0)\n",
            "Requirement already satisfied: monotonic>=1.5 in /usr/lib/python3/dist-packages (from posthog>=2.4.0->chromadb) (1.6)\n",
            "Requirement already satisfied: backoff>=1.10.0 in ./.local/lib/python3.10/site-packages (from posthog>=2.4.0->chromadb) (2.2.1)\n",
            "Requirement already satisfied: idna<4,>=2.5 in /usr/lib/python3/dist-packages (from requests>=2.26.0->tiktoken) (3.3)\n",
            "Requirement already satisfied: greenlet!=0.4.17 in ./.local/lib/python3.10/site-packages (from SQLAlchemy<3,>=1.4->langchain) (2.0.2)\n",
            "Requirement already satisfied: networkx in /usr/local/lib/python3.10/dist-packages (from torch>=1.6.0->sentence_transformers) (3.1)\n",
            "Requirement already satisfied: jinja2 in /usr/local/lib/python3.10/dist-packages (from torch>=1.6.0->sentence_transformers) (3.1.2)\n",
            "Requirement already satisfied: nvidia-cuda-nvrtc-cu11==11.7.99 in /usr/local/lib/python3.10/dist-packages (from torch>=1.6.0->sentence_transformers) (11.7.99)\n",
            "Requirement already satisfied: nvidia-cuda-runtime-cu11==11.7.99 in /usr/local/lib/python3.10/dist-packages (from torch>=1.6.0->sentence_transformers) (11.7.99)\n",
            "Requirement already satisfied: nvidia-cuda-cupti-cu11==11.7.101 in /usr/local/lib/python3.10/dist-packages (from torch>=1.6.0->sentence_transformers) (11.7.101)\n",
            "Requirement already satisfied: nvidia-cudnn-cu11==8.5.0.96 in /usr/local/lib/python3.10/dist-packages (from torch>=1.6.0->sentence_transformers) (8.5.0.96)\n",
            "Requirement already satisfied: nvidia-cublas-cu11==11.10.3.66 in /usr/local/lib/python3.10/dist-packages (from torch>=1.6.0->sentence_transformers) (11.10.3.66)\n",
            "Requirement already satisfied: nvidia-cufft-cu11==10.9.0.58 in /usr/local/lib/python3.10/dist-packages (from torch>=1.6.0->sentence_transformers) (10.9.0.58)\n",
            "Requirement already satisfied: nvidia-curand-cu11==10.2.10.91 in /usr/local/lib/python3.10/dist-packages (from torch>=1.6.0->sentence_transformers) (10.2.10.91)\n",
            "Requirement already satisfied: nvidia-cusolver-cu11==11.4.0.1 in /usr/local/lib/python3.10/dist-packages (from torch>=1.6.0->sentence_transformers) (11.4.0.1)\n",
            "Requirement already satisfied: nvidia-cusparse-cu11==11.7.4.91 in /usr/local/lib/python3.10/dist-packages (from torch>=1.6.0->sentence_transformers) (11.7.4.91)\n",
            "Requirement already satisfied: nvidia-nccl-cu11==2.14.3 in /usr/local/lib/python3.10/dist-packages (from torch>=1.6.0->sentence_transformers) (2.14.3)\n",
            "Requirement already satisfied: nvidia-nvtx-cu11==11.7.91 in /usr/local/lib/python3.10/dist-packages (from torch>=1.6.0->sentence_transformers) (11.7.91)\n",
            "Requirement already satisfied: triton==2.0.0 in /usr/local/lib/python3.10/dist-packages (from torch>=1.6.0->sentence_transformers) (2.0.0)\n",
            "Requirement already satisfied: setuptools in /usr/lib/python3/dist-packages (from nvidia-cublas-cu11==11.10.3.66->torch>=1.6.0->sentence_transformers) (59.6.0)\n",
            "Requirement already satisfied: wheel in /usr/lib/python3/dist-packages (from nvidia-cublas-cu11==11.10.3.66->torch>=1.6.0->sentence_transformers) (0.37.1)\n",
            "Requirement already satisfied: cmake in /usr/local/lib/python3.10/dist-packages (from triton==2.0.0->torch>=1.6.0->sentence_transformers) (3.26.4)\n",
            "Requirement already satisfied: lit in /usr/local/lib/python3.10/dist-packages (from triton==2.0.0->torch>=1.6.0->sentence_transformers) (16.0.6)\n",
            "Requirement already satisfied: safetensors>=0.3.1 in ./.local/lib/python3.10/site-packages (from transformers<5.0.0,>=4.6.0->sentence_transformers) (0.3.1)\n",
            "Requirement already satisfied: click>=7.0 in /usr/lib/python3/dist-packages (from uvicorn[standard]>=0.18.3->chromadb) (8.0.3)\n",
            "Requirement already satisfied: h11>=0.8 in ./.local/lib/python3.10/site-packages (from uvicorn[standard]>=0.18.3->chromadb) (0.14.0)\n",
            "Requirement already satisfied: httptools>=0.5.0 in ./.local/lib/python3.10/site-packages (from uvicorn[standard]>=0.18.3->chromadb) (0.6.0)\n",
            "Requirement already satisfied: python-dotenv>=0.13 in ./.local/lib/python3.10/site-packages (from uvicorn[standard]>=0.18.3->chromadb) (1.0.0)\n",
            "Requirement already satisfied: uvloop!=0.15.0,!=0.15.1,>=0.14.0 in ./.local/lib/python3.10/site-packages (from uvicorn[standard]>=0.18.3->chromadb) (0.17.0)\n",
            "Requirement already satisfied: watchfiles>=0.13 in ./.local/lib/python3.10/site-packages (from uvicorn[standard]>=0.18.3->chromadb) (0.19.0)\n",
            "Requirement already satisfied: websockets>=10.4 in ./.local/lib/python3.10/site-packages (from uvicorn[standard]>=0.18.3->chromadb) (11.0.3)\n",
            "Requirement already satisfied: olefile>=0.46 in /usr/lib/python3/dist-packages (from msg-parser->unstructured) (0.46)\n",
            "Requirement already satisfied: joblib in ./.local/lib/python3.10/site-packages (from nltk->sentence_transformers) (1.3.1)\n",
            "Collecting et-xmlfile (from openpyxl->unstructured)\n",
            "  Using cached et_xmlfile-1.1.0-py3-none-any.whl (4.7 kB)\n",
            "Collecting cryptography>=36.0.0 (from pdfminer.six->unstructured)\n",
            "  Using cached cryptography-41.0.2-cp37-abi3-manylinux_2_28_x86_64.whl (4.3 MB)\n",
            "Collecting XlsxWriter>=0.5.7 (from python-pptx->unstructured)\n",
            "  Using cached XlsxWriter-3.1.2-py3-none-any.whl (153 kB)\n",
            "Requirement already satisfied: threadpoolctl>=2.0.0 in ./.local/lib/python3.10/site-packages (from scikit-learn->sentence_transformers) (3.2.0)\n",
            "Collecting cffi>=1.12 (from cryptography>=36.0.0->pdfminer.six->unstructured)\n",
            "  Using cached cffi-1.15.1-cp310-cp310-manylinux_2_17_x86_64.manylinux2014_x86_64.whl (441 kB)\n",
            "Requirement already satisfied: mypy-extensions>=0.3.0 in ./.local/lib/python3.10/site-packages (from typing-inspect<1,>=0.4.0->dataclasses-json<0.6.0,>=0.5.7->langchain) (1.0.0)\n",
            "Requirement already satisfied: humanfriendly>=9.1 in ./.local/lib/python3.10/site-packages (from coloredlogs->onnxruntime>=1.14.1->chromadb) (10.0)\n",
            "Requirement already satisfied: MarkupSafe>=2.0 in /usr/lib/python3/dist-packages (from jinja2->torch>=1.6.0->sentence_transformers) (2.0.1)\n",
            "Requirement already satisfied: mpmath>=0.19 in /usr/local/lib/python3.10/dist-packages (from sympy->onnxruntime>=1.14.1->chromadb) (1.3.0)\n",
            "Requirement already satisfied: sniffio>=1.1 in ./.local/lib/python3.10/site-packages (from anyio<5,>=3.4.0->starlette==0.20.4->fastapi==0.85.1->chromadb) (1.3.0)\n",
            "Requirement already satisfied: exceptiongroup in ./.local/lib/python3.10/site-packages (from anyio<5,>=3.4.0->starlette==0.20.4->fastapi==0.85.1->chromadb) (1.1.2)\n",
            "Collecting pycparser (from cffi>=1.12->cryptography>=36.0.0->pdfminer.six->unstructured)\n",
            "  Using cached pycparser-2.21-py2.py3-none-any.whl (118 kB)\n",
            "Building wheels for collected packages: python-docx, python-pptx\n",
            "  Building wheel for python-docx (setup.py) ... \u001b[?25ldone\n",
            "\u001b[?25h  Created wheel for python-docx: filename=python_docx-0.8.11-py3-none-any.whl size=184507 sha256=d6bda5e16d7b96d11f8b772af5ab8ecdb8920ccb79c0c084d43286e99b1f4858\n",
            "  Stored in directory: /home/bhumik/.cache/pip/wheels/80/27/06/837436d4c3bd989b957a91679966f207bfd71d358d63a8194d\n",
            "  Building wheel for python-pptx (setup.py) ... \u001b[?25ldone\n",
            "\u001b[?25h  Created wheel for python-pptx: filename=python_pptx-0.6.21-py3-none-any.whl size=470951 sha256=047d8e3b180cc66f0337992a49a7d40d943642b06e9ad45d51068e8c860f6caf\n",
            "  Stored in directory: /home/bhumik/.cache/pip/wheels/ea/dd/74/01b3ec7256a0800b99384e9a0f7620e358afc3a51a59bf9b49\n",
            "Successfully built python-docx python-pptx\n",
            "Installing collected packages: filetype, XlsxWriter, xlrd, tabulate, python-magic, pypandoc, pycparser, msg-parser, markdown, lxml, et-xmlfile, python-pptx, python-docx, openpyxl, cffi, cryptography, pdfminer.six, unstructured\n",
            "Successfully installed XlsxWriter-3.1.2 cffi-1.15.1 cryptography-41.0.2 et-xmlfile-1.1.0 filetype-1.2.0 lxml-4.9.3 markdown-3.4.3 msg-parser-1.2.0 openpyxl-3.1.2 pdfminer.six-20221105 pycparser-2.21 pypandoc-1.11 python-docx-0.8.11 python-magic-0.4.27 python-pptx-0.6.21 tabulate-0.9.0 unstructured-0.8.1 xlrd-2.0.1\n",
            "\n",
            "\u001b[1m[\u001b[0m\u001b[34;49mnotice\u001b[0m\u001b[1;39;49m]\u001b[0m\u001b[39;49m A new release of pip is available: \u001b[0m\u001b[31;49m23.1.2\u001b[0m\u001b[39;49m -> \u001b[0m\u001b[32;49m23.2\u001b[0m\n",
            "\u001b[1m[\u001b[0m\u001b[34;49mnotice\u001b[0m\u001b[1;39;49m]\u001b[0m\u001b[39;49m To update, run: \u001b[0m\u001b[32;49mpip install --upgrade pip\u001b[0m\n",
            "Note: you may need to restart the kernel to use updated packages.\n",
            "Defaulting to user installation because normal site-packages is not writeable\n",
            "Requirement already satisfied: chromadb==0.3.29 in ./.local/lib/python3.10/site-packages (0.3.29)\n",
            "Requirement already satisfied: pandas>=1.3 in /usr/local/lib/python3.10/dist-packages (from chromadb==0.3.29) (2.0.3)\n",
            "Requirement already satisfied: requests>=2.28 in ./.local/lib/python3.10/site-packages (from chromadb==0.3.29) (2.31.0)\n",
            "Requirement already satisfied: pydantic<2.0,>=1.9 in ./.local/lib/python3.10/site-packages (from chromadb==0.3.29) (1.10.11)\n",
            "Requirement already satisfied: hnswlib>=0.7 in ./.local/lib/python3.10/site-packages (from chromadb==0.3.29) (0.7.0)\n",
            "Requirement already satisfied: clickhouse-connect>=0.5.7 in ./.local/lib/python3.10/site-packages (from chromadb==0.3.29) (0.6.8)\n",
            "Requirement already satisfied: duckdb>=0.7.1 in ./.local/lib/python3.10/site-packages (from chromadb==0.3.29) (0.8.1)\n",
            "Requirement already satisfied: fastapi==0.85.1 in ./.local/lib/python3.10/site-packages (from chromadb==0.3.29) (0.85.1)\n",
            "Requirement already satisfied: uvicorn[standard]>=0.18.3 in ./.local/lib/python3.10/site-packages (from chromadb==0.3.29) (0.23.1)\n",
            "Requirement already satisfied: numpy>=1.21.6 in /usr/local/lib/python3.10/dist-packages (from chromadb==0.3.29) (1.25.1)\n",
            "Requirement already satisfied: posthog>=2.4.0 in ./.local/lib/python3.10/site-packages (from chromadb==0.3.29) (3.0.1)\n",
            "Requirement already satisfied: typing-extensions>=4.5.0 in /usr/local/lib/python3.10/dist-packages (from chromadb==0.3.29) (4.7.1)\n",
            "Requirement already satisfied: pulsar-client>=3.1.0 in ./.local/lib/python3.10/site-packages (from chromadb==0.3.29) (3.2.0)\n",
            "Requirement already satisfied: onnxruntime>=1.14.1 in ./.local/lib/python3.10/site-packages (from chromadb==0.3.29) (1.15.1)\n",
            "Requirement already satisfied: tokenizers>=0.13.2 in ./.local/lib/python3.10/site-packages (from chromadb==0.3.29) (0.13.3)\n",
            "Requirement already satisfied: tqdm>=4.65.0 in /usr/local/lib/python3.10/dist-packages (from chromadb==0.3.29) (4.65.0)\n",
            "Requirement already satisfied: overrides>=7.3.1 in ./.local/lib/python3.10/site-packages (from chromadb==0.3.29) (7.3.1)\n",
            "Requirement already satisfied: starlette==0.20.4 in ./.local/lib/python3.10/site-packages (from fastapi==0.85.1->chromadb==0.3.29) (0.20.4)\n",
            "Requirement already satisfied: anyio<5,>=3.4.0 in ./.local/lib/python3.10/site-packages (from starlette==0.20.4->fastapi==0.85.1->chromadb==0.3.29) (3.7.1)\n",
            "Requirement already satisfied: certifi in /usr/lib/python3/dist-packages (from clickhouse-connect>=0.5.7->chromadb==0.3.29) (2020.6.20)\n",
            "Requirement already satisfied: importlib-metadata in /usr/lib/python3/dist-packages (from clickhouse-connect>=0.5.7->chromadb==0.3.29) (4.6.4)\n",
            "Requirement already satisfied: urllib3>=1.26 in /usr/lib/python3/dist-packages (from clickhouse-connect>=0.5.7->chromadb==0.3.29) (1.26.5)\n",
            "Requirement already satisfied: pytz in /usr/lib/python3/dist-packages (from clickhouse-connect>=0.5.7->chromadb==0.3.29) (2022.1)\n",
            "Requirement already satisfied: zstandard in ./.local/lib/python3.10/site-packages (from clickhouse-connect>=0.5.7->chromadb==0.3.29) (0.21.0)\n",
            "Requirement already satisfied: lz4 in ./.local/lib/python3.10/site-packages (from clickhouse-connect>=0.5.7->chromadb==0.3.29) (4.3.2)\n",
            "Requirement already satisfied: coloredlogs in ./.local/lib/python3.10/site-packages (from onnxruntime>=1.14.1->chromadb==0.3.29) (15.0.1)\n",
            "Requirement already satisfied: flatbuffers in ./.local/lib/python3.10/site-packages (from onnxruntime>=1.14.1->chromadb==0.3.29) (23.5.26)\n",
            "Requirement already satisfied: packaging in /usr/local/lib/python3.10/dist-packages (from onnxruntime>=1.14.1->chromadb==0.3.29) (23.1)\n",
            "Requirement already satisfied: protobuf in /usr/lib/python3/dist-packages (from onnxruntime>=1.14.1->chromadb==0.3.29) (3.12.4)\n",
            "Requirement already satisfied: sympy in /usr/local/lib/python3.10/dist-packages (from onnxruntime>=1.14.1->chromadb==0.3.29) (1.12)\n",
            "Requirement already satisfied: python-dateutil>=2.8.2 in /usr/local/lib/python3.10/dist-packages (from pandas>=1.3->chromadb==0.3.29) (2.8.2)\n",
            "Requirement already satisfied: tzdata>=2022.1 in /usr/local/lib/python3.10/dist-packages (from pandas>=1.3->chromadb==0.3.29) (2023.3)\n",
            "Requirement already satisfied: six>=1.5 in /usr/lib/python3/dist-packages (from posthog>=2.4.0->chromadb==0.3.29) (1.16.0)\n",
            "Requirement already satisfied: monotonic>=1.5 in /usr/lib/python3/dist-packages (from posthog>=2.4.0->chromadb==0.3.29) (1.6)\n",
            "Requirement already satisfied: backoff>=1.10.0 in ./.local/lib/python3.10/site-packages (from posthog>=2.4.0->chromadb==0.3.29) (2.2.1)\n",
            "Requirement already satisfied: charset-normalizer<4,>=2 in ./.local/lib/python3.10/site-packages (from requests>=2.28->chromadb==0.3.29) (3.2.0)\n",
            "Requirement already satisfied: idna<4,>=2.5 in /usr/lib/python3/dist-packages (from requests>=2.28->chromadb==0.3.29) (3.3)\n",
            "Requirement already satisfied: click>=7.0 in /usr/lib/python3/dist-packages (from uvicorn[standard]>=0.18.3->chromadb==0.3.29) (8.0.3)\n",
            "Requirement already satisfied: h11>=0.8 in ./.local/lib/python3.10/site-packages (from uvicorn[standard]>=0.18.3->chromadb==0.3.29) (0.14.0)\n",
            "Requirement already satisfied: httptools>=0.5.0 in ./.local/lib/python3.10/site-packages (from uvicorn[standard]>=0.18.3->chromadb==0.3.29) (0.6.0)\n",
            "Requirement already satisfied: python-dotenv>=0.13 in ./.local/lib/python3.10/site-packages (from uvicorn[standard]>=0.18.3->chromadb==0.3.29) (1.0.0)\n",
            "Requirement already satisfied: pyyaml>=5.1 in /usr/lib/python3/dist-packages (from uvicorn[standard]>=0.18.3->chromadb==0.3.29) (5.4.1)\n",
            "Requirement already satisfied: uvloop!=0.15.0,!=0.15.1,>=0.14.0 in ./.local/lib/python3.10/site-packages (from uvicorn[standard]>=0.18.3->chromadb==0.3.29) (0.17.0)\n",
            "Requirement already satisfied: watchfiles>=0.13 in ./.local/lib/python3.10/site-packages (from uvicorn[standard]>=0.18.3->chromadb==0.3.29) (0.19.0)\n",
            "Requirement already satisfied: websockets>=10.4 in ./.local/lib/python3.10/site-packages (from uvicorn[standard]>=0.18.3->chromadb==0.3.29) (11.0.3)\n",
            "Requirement already satisfied: humanfriendly>=9.1 in ./.local/lib/python3.10/site-packages (from coloredlogs->onnxruntime>=1.14.1->chromadb==0.3.29) (10.0)\n",
            "Requirement already satisfied: mpmath>=0.19 in /usr/local/lib/python3.10/dist-packages (from sympy->onnxruntime>=1.14.1->chromadb==0.3.29) (1.3.0)\n",
            "Requirement already satisfied: sniffio>=1.1 in ./.local/lib/python3.10/site-packages (from anyio<5,>=3.4.0->starlette==0.20.4->fastapi==0.85.1->chromadb==0.3.29) (1.3.0)\n",
            "Requirement already satisfied: exceptiongroup in ./.local/lib/python3.10/site-packages (from anyio<5,>=3.4.0->starlette==0.20.4->fastapi==0.85.1->chromadb==0.3.29) (1.1.2)\n",
            "\n",
            "\u001b[1m[\u001b[0m\u001b[34;49mnotice\u001b[0m\u001b[1;39;49m]\u001b[0m\u001b[39;49m A new release of pip is available: \u001b[0m\u001b[31;49m23.1.2\u001b[0m\u001b[39;49m -> \u001b[0m\u001b[32;49m23.2\u001b[0m\n",
            "\u001b[1m[\u001b[0m\u001b[34;49mnotice\u001b[0m\u001b[1;39;49m]\u001b[0m\u001b[39;49m To update, run: \u001b[0m\u001b[32;49mpip install --upgrade pip\u001b[0m\n",
            "Note: you may need to restart the kernel to use updated packages.\n"
          ]
        }
      ],
      "source": [
        "%pip install \"pdf2image\" \"pytesseract\" \"tiktoken\" \"langchain\" \"chromadb\" \"sentence_transformers\" \"unstructured\"\n",
        "%pip install chromadb==0.3.29"
      ]
    },
    {
      "cell_type": "code",
      "execution_count": 23,
      "metadata": {
        "id": "vLHPLMrY4IFD"
      },
      "outputs": [],
      "source": [
        "import os\n",
        "from chromadb.config import Settings"
      ]
    },
    {
      "cell_type": "code",
      "execution_count": 24,
      "metadata": {
        "id": "Dur2LLlr4JuE"
      },
      "outputs": [],
      "source": [
        "import re\n",
        "import os\n",
        "import glob\n",
        "from typing import List\n",
        "from dotenv import load_dotenv\n",
        "from multiprocessing import Pool\n",
        "from tqdm import tqdm\n",
        "from langchain.text_splitter import RecursiveCharacterTextSplitter\n",
        "from langchain.vectorstores import Chroma\n",
        "from langchain.embeddings import HuggingFaceEmbeddings\n",
        "from langchain.docstore.document import Document\n",
        "from langchain.document_loaders import (\n",
        "    PDFMinerLoader,\n",
        ")\n",
        "from langchain.document_loaders import UnstructuredFileLoader\n",
        "from langchain.text_splitter import TokenTextSplitter"
      ]
    },
    {
      "cell_type": "code",
      "execution_count": 25,
      "metadata": {
        "id": "DqD1NFLd4MwN"
      },
      "outputs": [],
      "source": [
        "# Define the folder for storing database\n",
        "persist_directory = 'AllMini_Chroma_Tik_400' # add the name of the folder where you want to store vectorDB\n",
        "\n",
        "# Define the Chroma settings\n",
        "CHROMA_SETTINGS = Settings(\n",
        "        chroma_db_impl='duckdb+parquet',\n",
        "        persist_directory=persist_directory,\n",
        "        anonymized_telemetry=False\n",
        ")\n",
        "# path to the source documents\n",
        "source_directory= \"docs/daiict.ac.in\"\n",
        "# define text chunk size and overlap\n",
        "chunk_size = 400\n",
        "chunk_overlap = 40"
      ]
    },
    {
      "cell_type": "code",
      "execution_count": 26,
      "metadata": {},
      "outputs": [],
      "source": [
        "# %cd ~/docs/daiict.ac.in"
      ]
    },
    {
      "cell_type": "code",
      "execution_count": 27,
      "metadata": {
        "id": "b1xPelJS4RcY"
      },
      "outputs": [],
      "source": [
        "# load single document\n",
        "def load_single_document(file_path: str) -> List[Document]:\n",
        "  \"\"\"\n",
        "  Function responsible for loading pdf and text files and data cleaning.\n",
        "  \"\"\"\n",
        "  # define data loader as per file type\n",
        "  if file_path[-3:]==\"pdf\":\n",
        "    loader = PDFMinerLoader(file_path)\n",
        "  else:\n",
        "    loader = UnstructuredFileLoader(file_path)\n",
        "\n",
        "  # load data from file\n",
        "  result = loader.load()\n",
        "  page_content = result[0].page_content\n",
        "  # Remove extra breaklines from the text.\n",
        "  page_content = page_content.replace('\\n',' ').replace('\\\\n',' ')\n",
        "  # Remove continous extraspaces from the text\n",
        "  page_content = re.sub(r\"\\s+\", \" \", page_content)\n",
        "  result[0].page_content = page_content\n",
        "  return result"
      ]
    },
    {
      "cell_type": "code",
      "execution_count": 28,
      "metadata": {
        "id": "U3GHoeOI4Wr8"
      },
      "outputs": [],
      "source": [
        "def load_documents(source_dir: str) -> List[Document]:\n",
        "    \"\"\"\n",
        "    Loads all documents from the source documents directory.\n",
        "    \"\"\"\n",
        "    results = []\n",
        "    all_file_paths = []\n",
        "    # text file paths\n",
        "    txt_files = glob.glob(os.path.join(source_dir, '*.txt'))\n",
        "    # pdf files paths\n",
        "    pdf_files = glob.glob(os.path.join(source_dir, '*.pdf'))\n",
        "    all_file_paths.extend(txt_files)\n",
        "    all_file_paths.extend(pdf_files)\n",
        "\n",
        "    # remove files .zip type\n",
        "    all_file_paths = [file for file in all_file_paths if not file.endswith('.zip')]\n",
        "    for file in all_file_paths:\n",
        "      # remove xls files in txt format\n",
        "      if(file[-7:]!='xls.txt'):\n",
        "        doc = load_single_document(file)\n",
        "        results.extend(doc)\n",
        "\n",
        "    return results"
      ]
    },
    {
      "cell_type": "code",
      "execution_count": 29,
      "metadata": {},
      "outputs": [],
      "source": [
        "# load_documents(source_dir=\"~/docs/daiict.ac.in\")"
      ]
    },
    {
      "cell_type": "code",
      "execution_count": 30,
      "metadata": {
        "id": "EhqXPnIt4ZRl"
      },
      "outputs": [],
      "source": [
        "def process_documents() -> List[Document]:\n",
        "    \"\"\"\n",
        "    Load documents and split in chunks\n",
        "    \"\"\"\n",
        "    print(f\"Loading documents from {source_directory}\")\n",
        "    documents = load_documents(source_directory)\n",
        "    if not documents:\n",
        "        print(\"No new documents to load\")\n",
        "        exit(0)\n",
        "    print(f\"Loaded {len(documents)} new documents from {source_directory}\")\n",
        "    # define text splitter\n",
        "    text_splitter = TokenTextSplitter(chunk_size=chunk_size, chunk_overlap=chunk_overlap)\n",
        "    texts = text_splitter.split_documents(documents)\n",
        "    print(f\"Split into {len(texts)} chunks of text (max. {chunk_size} tokens each)\")\n",
        "    return texts"
      ]
    },
    {
      "cell_type": "code",
      "execution_count": 31,
      "metadata": {
        "id": "dFQ1XBHM4hlN"
      },
      "outputs": [],
      "source": [
        "def does_vectorstore_exist(persist_directory: str) -> bool:\n",
        "    \"\"\"\n",
        "    Checks if vectorstore exists\n",
        "    \"\"\"\n",
        "    if os.path.exists(os.path.join(persist_directory, 'index')):\n",
        "        if os.path.exists(os.path.join(persist_directory, 'chroma-collections.parquet')) and os.path.exists(os.path.join(persist_directory, 'chroma-embeddings.parquet')):\n",
        "            list_index_files = glob.glob(os.path.join(persist_directory, 'index/*.bin'))\n",
        "            list_index_files += glob.glob(os.path.join(persist_directory, 'index/*.pkl'))\n",
        "            # At least 3 documents are needed in a working vectorstore\n",
        "            if len(list_index_files) > 3:\n",
        "                return True\n",
        "    return False"
      ]
    },
    {
      "cell_type": "code",
      "execution_count": 32,
      "metadata": {
        "id": "M6x0KXrL4jI4"
      },
      "outputs": [],
      "source": [
        "def main():\n",
        "    \"\"\"\n",
        "    Run this for creating vector database\n",
        "\n",
        "    \"\"\"\n",
        "    # load embeddings model\n",
        "    embeddings = HuggingFaceEmbeddings(model_name='sentence-transformers/all-MiniLM-L6-v2')\n",
        "\n",
        "    if does_vectorstore_exist(persist_directory):\n",
        "        # Update and store locally vectorstore\n",
        "        print(f\"Appending to existing vectorstore at {persist_directory}\")\n",
        "        db = Chroma(persist_directory=persist_directory, embedding_function=embeddings, client_settings=CHROMA_SETTINGS)\n",
        "        collection = db.get()\n",
        "        texts = persist_directory([metadata['source'] for metadata in collection['metadatas']])\n",
        "        print(f\"Creating embeddings. May take some minutes...\")\n",
        "        db.add_documents(texts)\n",
        "    else:\n",
        "        # Create and store locally vectorstore\n",
        "        print(\"Creating new vectorstore\")\n",
        "        texts = process_documents()\n",
        "        print(f\"Creating embeddings. May take some minutes...\")\n",
        "        db = Chroma.from_documents(texts, embeddings, persist_directory=persist_directory, client_settings=CHROMA_SETTINGS)\n",
        "    db.persist()\n",
        "    db = None\n",
        "\n",
        "    print(f\"Ingestion complete! You can now run query the vectorDB for context retrieval\")"
      ]
    },
    {
      "cell_type": "code",
      "execution_count": 33,
      "metadata": {
        "colab": {
          "base_uri": "https://localhost:8080/"
        },
        "id": "Tfl0AWOlq8VY",
        "outputId": "57356135-f650-4bfb-87b3-b9441324fda4"
      },
      "outputs": [
        {
          "name": "stdout",
          "output_type": "stream",
          "text": [
            "[Errno 2] No such file or directory: '/home/bhumik/docs/finalDB'\n",
            "/home/bhumik\n"
          ]
        }
      ],
      "source": [
        "#Enter path to store the vectorDB\n",
        "%cd ~/docs/finalDB\n"
      ]
    },
    {
      "cell_type": "code",
      "execution_count": 34,
      "metadata": {
        "id": "_SPLcrq84kka"
      },
      "outputs": [
        {
          "name": "stdout",
          "output_type": "stream",
          "text": [
            "Creating new vectorstore\n",
            "Loading documents from docs/daiict.ac.in\n"
          ]
        },
        {
          "name": "stderr",
          "output_type": "stream",
          "text": [
            "[nltk_data] Downloading package punkt to /home/bhumik/nltk_data...\n",
            "[nltk_data]   Unzipping tokenizers/punkt.zip.\n",
            "[nltk_data] Downloading package averaged_perceptron_tagger to\n",
            "[nltk_data]     /home/bhumik/nltk_data...\n",
            "[nltk_data]   Unzipping taggers/averaged_perceptron_tagger.zip.\n"
          ]
        },
        {
          "name": "stdout",
          "output_type": "stream",
          "text": [
            "Loaded 600 new documents from docs/daiict.ac.in\n",
            "Split into 5453 chunks of text (max. 400 tokens each)\n",
            "Creating embeddings. May take some minutes...\n",
            "Ingestion complete! You can now run query the vectorDB for context retrieval\n"
          ]
        }
      ],
      "source": [
        "# Only run when creating vectorStore\n",
        "main()"
      ]
    },
    {
      "cell_type": "markdown",
      "metadata": {
        "id": "y6ylLgTnubVL"
      },
      "source": [
        "#Context retrieval on vector database"
      ]
    },
    {
      "cell_type": "code",
      "execution_count": 35,
      "metadata": {
        "id": "T-XhkbEe9Wt2"
      },
      "outputs": [],
      "source": [
        "# load embeddings model\n",
        "embeddings = HuggingFaceEmbeddings(model_name='sentence-transformers/all-MiniLM-L6-v2')"
      ]
    },
    {
      "cell_type": "code",
      "execution_count": 42,
      "metadata": {
        "id": "2t6DuDxAHoxA"
      },
      "outputs": [],
      "source": [
        "# define vectorDB directory and ChromaDB settings\n",
        "persist_directory = \"AllMini_Chroma_Tik_400\"\n",
        "CHROMA_SETTINGS = Settings(\n",
        "        chroma_db_impl='duckdb+parquet',\n",
        "        persist_directory=persist_directory,\n",
        "        anonymized_telemetry=False\n",
        ")"
      ]
    },
    {
      "cell_type": "code",
      "execution_count": 43,
      "metadata": {
        "colab": {
          "base_uri": "https://localhost:8080/"
        },
        "id": "0x8XgRbSHtQT",
        "outputId": "28d86169-539b-4c80-993c-bdcb96370fc9"
      },
      "outputs": [],
      "source": [
        "# vectorDB instance\n",
        "db = Chroma(persist_directory=persist_directory, embedding_function=embeddings, client_settings=CHROMA_SETTINGS)"
      ]
    },
    {
      "cell_type": "code",
      "execution_count": 44,
      "metadata": {
        "id": "ZHmleUKlHvE7"
      },
      "outputs": [
        {
          "data": {
            "text/plain": [
              "[Document(page_content='alyan Sashidhar KOTAK NISHITH ASHOKKUMAR Kuntala Dasgupta Lavneet Singh 31 45 49 28 40 47 33 69 29 38 27 66 43 Madhumita Mazumdar Maitri Vaghela Manik Lal Das Manish Khare Manish Kumar Manishkumar Gupta Manjunath Joshi Manoj Kumar Raut Mayank Patel Minal Bhise Mukesh Tiwari Nabagata Chaudhury 53 28 51 37 33 51 60 45 31 52 44 27 Other Professor Male Male Associate Professor Male Other Other Other Other Dean / Principal / Director / Vice Chancellor Female Female Male Male Male Other Female Associate Professor Male M.S Ph.D Ph.D M.Tech M. Phil Ph.D M.E. Ph.D M.E. Ph.D Male M.Tech Other Other Other Female Male Professor Female Other Professor Female Male Assistant Professor Male Assistant Professor Male Professor Professor Male Male Associate Professor Male Associate Professor Female Associate Professor Male Other Female Other Male M.Tech B.Sc. M.S Ph.D Ph.D M.Tech Ph.D Ph.D Ph.D Ph.D Ph.D Ph.D Ph.D Ph.D M.Sc. Ph.D Ph.D Ph.D Ph.D M.Tech 92 186 150 48 24 129 92 528 74 126 48 392 210 33 346 52 275 78 32 258 408 210 72 270 162 30 90 25 350 534 94 Yes Yes Yes Yes Yes Yes Yes Yes Yes Yes Yes Yes Yes Yes Yes Yes Yes Yes Yes Yes Yes Yes Yes Yes Yes Yes Yes Yes Yes Yes Yes 01-08-2014 14-02-2007 13-07-2009 01-08-2015 29-07-2019 03-08-2018 01-01-2016 17-07-2017 01-08-2017 12-12-2015 01-08-2019 01-08-2012 31-01-2017', metadata={'source': 'docs/daiict.ac.in/daiict.ac.in_sites_default_files_other_files_DA_IICT_20220218_Overall.pdf.pdf'}),\n",
              " Document(page_content='itions Faculty on Tenure Faculty on Contract Need based Faculty on Contract Postdoc Positions Project Positions Staff Positions Adjunct Faculty Breadcrumb Home Adjunct Faculty Adjunct Faculty David Levin PhD (Statistics), University of California, Berkeley Adjunct Chair david_levin[at]daiict[dot]ac[dot]in Biography Specialization Publications Teaching Probability theory and its applications Contact Us Text DA-IICT, DA-IICT Road, Gandhinagar 382 007, Gujarat (India) Text For Admission Enquiries Text (+91) 079 - 6826 1700 Text (+91) 079 - 6826 1710 Text info[at]daiict[dot]ac[dot]in Follow Us On facebook twitter Instagram Youtube LinkedIn blogIcon Admissions displayNone Undergraduate displayNone Postgraduate displayNone Doctoral Program displayNone Scholarships Research displayNone Research Overview displayNone Deans Office displayNone Areas displayNone Sponsored Projects displayNone Faculty Achievements displayNone Publications displayNone Theses and Reports Academics displayNone Undergraduate displayNone Postgraduate displayNone Doctoral displayNone Stakeholder Feedback People displayNone Faculty displayNone Staff displayNone Doctoral Scholars NAAC displayNone SSR & Evaluative Reports Addendum 2017 displayNone displayNone SSR 2015 displayNone displayNone Evaluative Report 2015 displayNone CoE, Government of Gujarat displayNone Application submitted displayNone Audited Accounts displayNone Meeting of the Governing Bodies NIRF displayNone INDIA Ranking 2023 DCS Submitted INDIA Ranking 2020 DCS Submitted Other Links displayNone Prof. S.C. Sahasrabudhe - A Memoir displayNone Holidays 2023 displayNone displayNone Ecampus displayNone displayNone Intranet displayNone displayNone Courses displayNone displayNone Capacity Development and Skills Enhancement Initiatives displayNone Parents displayNone CEP displayNone DCEI displayNone displayNone Proforma for', metadata={'source': 'docs/daiict.ac.in/daiict.ac.in_adjunct_faculty_427.txt'})]"
            ]
          },
          "execution_count": 44,
          "metadata": {},
          "output_type": "execute_result"
        }
      ],
      "source": [
        "# # query the vectorDB\n",
        "# query = \"Name professors in cse department\"\n",
        "\n",
        "# # use vectorDB as retriever with top k retrieved context\n",
        "# retriever = db.as_retriever(search_type=\"mmr\",search_kwargs={\"k\": 2})\n",
        "# retriever.get_relevant_documents(query)"
      ]
    },
    {
      "cell_type": "code",
      "execution_count": 45,
      "metadata": {
        "id": "Fgb8GdUmHxvQ"
      },
      "outputs": [
        {
          "data": {
            "text/plain": [
              "(Document(page_content=' Board consisting of a Faculty Convener, faculty members and student representatives exists. Our own graduates who started their own company – Alma Connect is helping DA-IICT to reconnect the alumni with their Alma Mater by providing campus updates through the web portal (https://daiict.almaconnect.com/). As part of its ongoing commitment to reach, engage and connect to its graduates, the DA-IICT Alumni Association organizes Alumni Day at the Institute every year. The announcement of the Alumni Day is carried on various online channels including Almaconnect, Facebook, Google, alumni group etc. This is followed up by personal invites to those who indicate a strong interest in attending the event. The programme is usually held in two parts. The first is an interaction between the faculty and the alumni in the morning and the second is an interaction between the alumni and current students in the evening. It is proposed to establish an Alumni Account to which an alumni can contribute; this fund can be utilized to support the travel of the students to attend national/international conferences to present their research papers. Recently, alumni’s help has been sought for assisting the students in summer internships. Apart from the yearly meet at the campus, the alumni activities also take place at various cities in India including NCR, Mumbai, Bengaluru, Ahmedabad and Hyderabad and in the USA (Boston). These city-wise chapters regularly arrange a meet to discuss the activities of Alumni Association and to discuss in what all possible way the alums can help the institute and the present students. Dhirubhai Ambani Institute of Information and Communication Technology 248 NAAC Self Study Report - 2015 5.1.16 Does the university have a student grievance redressal cell? Give details of the nature of grievances reported. How were they redressed? To probe into the student grievances (at individual and class level and grievances of common interest), complaints are emailed by the student(s) and oral', metadata={'source': 'docs/daiict.ac.in/daiict.ac.in_sites_default_files_NAAC_Self_Study_Report.pdf.pdf'}),\n",
              " 0.8075419068336487)"
            ]
          },
          "execution_count": 45,
          "metadata": {},
          "output_type": "execute_result"
        }
      ],
      "source": [
        "# # Retrieval context with similarity score\n",
        "# query = \"Who are the Alumni Association Members?\"\n",
        "# docs = db.similarity_search_with_score(query)\n",
        "# docs[0]"
      ]
    },
    {
      "cell_type": "code",
      "execution_count": null,
      "metadata": {},
      "outputs": [],
      "source": []
    }
  ],
  "metadata": {
    "colab": {
      "provenance": []
    },
    "kernelspec": {
      "display_name": "Python 3",
      "name": "python3"
    },
    "language_info": {
      "codemirror_mode": {
        "name": "ipython",
        "version": 3
      },
      "file_extension": ".py",
      "mimetype": "text/x-python",
      "name": "python",
      "nbconvert_exporter": "python",
      "pygments_lexer": "ipython3",
      "version": "3.10.6"
    }
  },
  "nbformat": 4,
  "nbformat_minor": 0
}
