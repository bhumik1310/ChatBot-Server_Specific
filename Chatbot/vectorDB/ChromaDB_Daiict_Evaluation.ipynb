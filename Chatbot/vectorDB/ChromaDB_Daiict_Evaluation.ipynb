{
  "nbformat": 4,
  "nbformat_minor": 0,
  "metadata": {
    "colab": {
      "provenance": []
    },
    "kernelspec": {
      "name": "python3",
      "display_name": "Python 3"
    },
    "language_info": {
      "name": "python"
    }
  },
  "cells": [
    {
      "cell_type": "code",
      "execution_count": 1,
      "metadata": {
        "colab": {
          "base_uri": "https://localhost:8080/"
        },
        "id": "aeLAJpd03qPA",
        "outputId": "2f01be1b-c576-4a7d-9bec-bc01383ab4b3"
      },
      "outputs": [
        {
          "output_type": "stream",
          "name": "stdout",
          "text": [
            "Mounted at /content/drive\n"
          ]
        }
      ],
      "source": [
        "from google.colab import drive\n",
        "drive.mount(\"/content/drive\",force_remount = True)"
      ]
    },
    {
      "cell_type": "code",
      "source": [
        "%pip install langchain\n",
        "%pip install sentence_transformers\n",
        "%pip install chromadb chroma-migrate"
      ],
      "metadata": {
        "id": "hOLP7iVh1AMc"
      },
      "execution_count": null,
      "outputs": []
    },
    {
      "cell_type": "code",
      "source": [
        "from langchain.vectorstores import Chroma\n",
        "from langchain.embeddings import HuggingFaceEmbeddings\n",
        "from chromadb.config import Settings\n",
        "import chromadb"
      ],
      "metadata": {
        "id": "uN9H-1tG1K3l"
      },
      "execution_count": 8,
      "outputs": []
    },
    {
      "cell_type": "markdown",
      "source": [
        "## Daiict all-MiniLM-L6-v2 model TikToken 500 tokens"
      ],
      "metadata": {
        "id": "TJi3M2cK0Jbh"
      }
    },
    {
      "cell_type": "code",
      "source": [
        "# Enter the path where vectorDBs are stored\n",
        "%cd /content/drive/MyDrive/final VectorDBs/Daiict"
      ],
      "metadata": {
        "colab": {
          "base_uri": "https://localhost:8080/"
        },
        "id": "UvPqAtgO04Fs",
        "outputId": "a97691b5-5cd9-40d4-a79b-4e7bf6ce191f"
      },
      "execution_count": 4,
      "outputs": [
        {
          "output_type": "stream",
          "name": "stdout",
          "text": [
            "/content/drive/MyDrive/final VectorDBs/Daiict\n"
          ]
        }
      ]
    },
    {
      "cell_type": "code",
      "source": [
        "embeddings = HuggingFaceEmbeddings(model_name='sentence-transformers/all-MiniLM-L6-v2')"
      ],
      "metadata": {
        "id": "N2GjmaOQVH8u"
      },
      "execution_count": 5,
      "outputs": []
    },
    {
      "cell_type": "code",
      "source": [
        "persist_directory = \"AllMini_Chroma_Tik_500\"\n",
        "CHROMA_SETTINGS = Settings(\n",
        "        chroma_db_impl='duckdb+parquet',\n",
        "        persist_directory=persist_directory,\n",
        "        anonymized_telemetry=False\n",
        ")"
      ],
      "metadata": {
        "id": "rfQz2hWw03aG"
      },
      "execution_count": null,
      "outputs": []
    },
    {
      "cell_type": "code",
      "source": [
        "# load vectorDB instance\n",
        "db = Chroma(persist_directory=persist_directory, embedding_function=embeddings, client_settings=CHROMA_SETTINGS)"
      ],
      "metadata": {
        "id": "_4HvPyMk2PqC"
      },
      "execution_count": null,
      "outputs": []
    },
    {
      "cell_type": "code",
      "source": [
        "retriever = db.as_retriever(search_type=\"mmr\",search_kwargs={\"k\": 2})"
      ],
      "metadata": {
        "id": "disRx9eu2S6x"
      },
      "execution_count": null,
      "outputs": []
    },
    {
      "cell_type": "markdown",
      "source": [
        "**Similarity search with score**"
      ],
      "metadata": {
        "id": "2jbqCe4d2qQs"
      }
    },
    {
      "cell_type": "markdown",
      "source": [
        "Question1"
      ],
      "metadata": {
        "id": "D11kTqYB23P4"
      }
    },
    {
      "cell_type": "code",
      "source": [
        "query = \"what is the B.Tech curriculum?\"\n",
        "docs = db.similarity_search_with_score(query)\n",
        "docs[0]"
      ],
      "metadata": {
        "colab": {
          "base_uri": "https://localhost:8080/"
        },
        "id": "90ib5Q8f2oYU",
        "outputId": "c87e04b0-dd8d-44db-d85f-7a4f960ee8a7"
      },
      "execution_count": null,
      "outputs": [
        {
          "output_type": "execute_result",
          "data": {
            "text/plain": [
              "(Document(page_content='BTech (ICT) Curriculum 2016 Summary Report Dhirubhai Ambani Institute of Information and Communication Technology Near Indroda Circle, Gandhinagar, Gujarat, India. 382007 Tel: +91 7930520000 | Fax: +91 7930520010 | Web: www.daiict.ac.in 1 Summary DA-IICT offers a unique four-year undergraduate program leading to the degree of Bachelor of Technology in Information and Communication Technology - BTech(ICT). The pedagogy of ICT discipline should make a well-integration of Information Technology, Communication Technology, Electronics Engineering and Social Sciences courses, which a student cannot be trained in conventional Computer Science and Engineering or Electronics and Communication Engineering alone. The curriculum review process, started in July 2015, went through intensive interactions amongst specialized groups of faculty, formal meetings with faculty at large, discussion with external experts and multiple rounds of brain storming within the BTCRC. The entire exercise has been lasting close to a year. Structurally there is no major change in the revised curriculum. The curriculum is broadly classified into 3 categories of courses. The first category, referred to as Foundation, is a set of compulsory courses required to be taken by every student in the program. The next one is formed by a set of courses, referred to as the Electives, which adds to both the technical strength and humanities and social science skills of the program. The third one is composed of internships and BTech project (BTP). The curriculum provides students a multi- track option, where a student can acquire knowledge in breadth as well as depth in multiple tracks through an appropriate choice of elective courses, where electives could be in the four forms: ICT, Technical, Science and Open. The ICT electives provide expertise in courses which have components of computer systems and communication tracks; the Technical electives primarily provide expertise in some particular track; the Science electives provide expertise in basic sciences; and the Open electives belong to humanities, social sciences and management courses. Like previous curriculum structure, the revised curriculum has provision of mandatory rural internship and research/industrial internship. The student is also required to take at least a semester long BTech project (BTP) between 7th and 8th semester. The curriculum accommodates 175 credits, out of which 152 credits for courses and 23 credits for internships and project work. Out of the 152 required coursework credits, 111 credits are allocated to compulsory courses', metadata={'source': '/content/drive/MyDrive/daiict_webCrawl self data with chromadb private gpt/web crawl_DAIICT/docs/daiict.ac.in/daiict.ac.in_sites_default_files_Annexure_II.pdf.pdf'}),\n",
              " 0.8145553469657898)"
            ]
          },
          "metadata": {},
          "execution_count": 12
        }
      ]
    },
    {
      "cell_type": "markdown",
      "source": [
        "Question2"
      ],
      "metadata": {
        "id": "FNLQTEk23Db5"
      }
    },
    {
      "cell_type": "code",
      "source": [
        "query = \"what are the placement statistics?\"\n",
        "docs = db.similarity_search_with_score(query)\n",
        "docs[0]"
      ],
      "metadata": {
        "colab": {
          "base_uri": "https://localhost:8080/"
        },
        "id": "Xy1XsyqS2-uV",
        "outputId": "45e37dce-0f15-4e9d-ca25-7d2d4ba81999"
      },
      "execution_count": null,
      "outputs": [
        {
          "output_type": "execute_result",
          "data": {
            "text/plain": [
              "(Document(page_content=\" campus Institutes by Companies looking to add bright young placement process include Endurance International talent to their workforce. A good number of students Group, Verse Innovation Private Limited (Dailyhunt), have been recruited with attractive packages by Media.net, Morgan Stanley, OpsHub Technologies leading Companies like Microsoft, Amazon, Zomato, Pvt. Ltd. and MAQ Software. Apart from the regular Goldman Sachs, LinkedIn, Sprinklr, Flock, OYO placement activities, the Placement Cell initiated the and Phillips. The 2018-19 placement season saw process of tying up a group of current students with recruiters from various domains of industries offering Alumni of the Insititute to mentor and prepare them job profiles like Software Engineer, R&D Engineer, for the campus placement process. The Placement Business Technology Analyst, Data Scientist, Site Cell also started with assessments and interview Reliability Engineer, ASIC Design Engineer and preparation for pre-final year students to enable Business Intelligence Consultants. More than 150 Companies participated in campus placement for the batch graduating in 2018-19. The Companies them to get internships and final job offers in the companies that participate in the campus placement. . Table 5: Placement Status Placement 2018-19 B.Tech M.Tech M.Sc(IT) M.Sc(ICT)ARD M.Des(CD) Students opting for campus placement 197 Students opting out of campus placement Total 77 274 54 7 61 90 00 90 03 00 03 02 07 09 Details B.Tech M.Tech M.Sc(IT) M.Sc(ICT)ARD M.Des(CD) Total Placed 197 50 65 01 02 The average annual salary package was Rs. 10.16 camps on health awareness, education for the lakh. The highest salary package touched Rs. 39.30 girl child, harmful effects of tobacco, surveys on lakh per annum. RURAL INTERNSHIPS women's health, occupations, wages and incomes of villagers, their hardships, and so on. Some of the outcomes of these activities included possible The B.Tech 2017-18 Batch comprising 320 students,. technological solutions, namely conversion of were placed in 31 Non-Governmental Organizations paper-based records to digital using platforms such located in 10 states for Rural Internship. The as MS Office Suite and creating mobile apps. The Internship period was from 01 to 28 December, 2018. students made group-wise poster presentations that They were involved in activities such as conducting were\", metadata={'source': '/content/drive/MyDrive/daiict_webCrawl self data with chromadb private gpt/web crawl_DAIICT/docs/daiict.ac.in/daiict.ac.in_themes_daiict_images_DAIICT_AR_2018_19.pdf.pdf'}),\n",
              " 0.9595233201980591)"
            ]
          },
          "metadata": {},
          "execution_count": 14
        }
      ]
    },
    {
      "cell_type": "markdown",
      "source": [
        "Question3"
      ],
      "metadata": {
        "id": "aHTFTXge3SQS"
      }
    },
    {
      "cell_type": "code",
      "source": [
        "query = \"Name cse professors\"\n",
        "docs = db.similarity_search_with_score(query)\n",
        "docs[0]"
      ],
      "metadata": {
        "colab": {
          "base_uri": "https://localhost:8080/"
        },
        "id": "nEnwuzLr3Itm",
        "outputId": "f26a9a44-9bdc-4e63-e72d-42277a839dda"
      },
      "execution_count": null,
      "outputs": [
        {
          "output_type": "execute_result",
          "data": {
            "text/plain": [
              "(Document(page_content='andre 28 29 34 42 36 27 27 27 30 28 62 37 Srimanta Mandal 31 Vinay Palaparthy 30 Jayprakash T Lalchandani Aditi Nath Sarkar Anirban Dutta Gupta Ajit Pal Ganesh Devy ALIK BANERJEE 45 73 42 69 69 31 APRATIM DUTTA 26 ARCHANA NIGAM Hardik Sailor 30 30 Other Other Other Other Other Associate Professor Assistant Professor Other Other Other Other Other Professor Other Assistant Professor Assistant Professor Other Other Other Other Other Other Other Other Other Female M.Tech Male M.Tech Female Male Male Male Male Male Female Male Female Female Male Male Male Male Male Male Male Male Male Male Male M.E. M.S M.Sc. Ph.D Ph.D M.Sc. M.Sc. M.Sc. M.Sc. M.Sc. Ph.D M.E. Ph.D Ph.D Ph.D M.A PGDID Ph.D Ph.D M.Sc. M.Sc. Female M.Tech Male Ph.D 70 41 75 68 102 186 55 46 34 28 28 34 426 130 28 16 105 504 204 504 456 60 12 67 58 Yes Yes Yes Yes Yes Yes Yes Yes Yes Yes Yes Yes Yes Yes Yes Yes Yes Yes Yes Yes Yes Yes Yes Yes Yes Yes Yes Yes Yes No Yes Yes Yes Yes Yes Yes Yes Yes Yes Yes Yes Yes Yes Yes Yes Yes Yes Yes Yes No 01-08-2017 02-01-2018 01-08-2017 01-08-2014 -- -- -- -- 01-08-2018 11-07-2019 13-07-2018 18-07-2018 01-08-2015 01-08-2016 01-08-2017 02-01-2017 01-08-2016 17-09-2018 02-01-2017 04-10-2018 04-12-2018 03-08-2018 01-08-2018 01-08-2018 01-08-2018 01-08-2018 01-08-2018 01-08-2018 01-08-2018 -- -- -- -- -- -- -- -- -- -- -- -- -- -- -- -- -- -- -- 01-05-2018 31-12-2018 Adhoc / Contractual Adhoc / Contractual Adhoc / Contractual Adhoc / Contractual Adhoc / Contractual Regular Regular Adhoc / Contractual Adhoc / Contractual', metadata={'source': '/content/drive/MyDrive/daiict_webCrawl self data with chromadb private gpt/web crawl_DAIICT/docs/daiict.ac.in/daiict.ac.in_sites_default_files_Submitted_Engineering_MHRD_National_Institutional_Ranking_Framework_NIRF_2020.pdf.pdf'}),\n",
              " 0.9365364909172058)"
            ]
          },
          "metadata": {},
          "execution_count": 15
        }
      ]
    },
    {
      "cell_type": "markdown",
      "source": [
        "Question4"
      ],
      "metadata": {
        "id": "dTUibfb53c2h"
      }
    },
    {
      "cell_type": "code",
      "source": [
        "query = \"How is the campus life at Daiict?\"\n",
        "docs = db.similarity_search_with_score(query)\n",
        "docs[0]"
      ],
      "metadata": {
        "colab": {
          "base_uri": "https://localhost:8080/"
        },
        "id": "ga3prLPM3WTY",
        "outputId": "b7ebbb06-a267-4548-cf22-fc917ef21978"
      },
      "execution_count": null,
      "outputs": [
        {
          "output_type": "execute_result",
          "data": {
            "text/plain": [
              "(Document(page_content='edge technology along with a unique perspective to dissect the nuts and bolts in real world systems is unique to DAIICT, and I have rarely seen the depth and progressive world view in students from other colleges. DAIICT alumni that I have worked with have always stood out among peers in ownership, hard work, sharpness, pride and quality of output delivered. Eyes light up uniformly when you run into an alumni or faculty and the feeling is mutual. Lasting friendships made at DAIICT are a constant source of joy and inspiration. Most importantly, the feeling of belonging to a place which constantly aspires for greatness resonates with my core values.” Contact Us Text DA-IICT, DA-IICT Road, Gandhinagar 382 007, Gujarat (India) Text For Admission Enquiries Text (+91) 079 - 6826 1700 Text (+91) 079 - 6826 1710 Text info[at]daiict[dot]ac[dot]in Follow Us On facebook twitter Instagram Youtube LinkedIn blogIcon Admissions displayNone Undergraduate displayNone Postgraduate displayNone Doctoral Program displayNone Scholarships Research displayNone Research Overview displayNone Deans Office displayNone Areas displayNone Sponsored Projects displayNone Faculty Achievements displayNone Publications displayNone Theses and Reports Academics displayNone Undergraduate displayNone Postgraduate displayNone Doctoral displayNone Stakeholder Feedback People displayNone Faculty displayNone Staff displayNone Doctoral Scholars NAAC displayNone SSR & Evaluative Reports Addendum 2017 displayNone displayNone SSR 2015 displayNone displayNone Evaluative Report 2015 displayNone CoE, Government of Gujarat displayNone Application submitted displayNone Audited Accounts displayNone Meeting of the Governing Bodies NIRF displayNone INDIA Ranking 2023 DCS Submitted INDIA Ranking 2020 DCS Submitted Other Links displayNone Prof. S.C. Sahasrabudhe - A Memoir displayNone Holidays 2023 displayNone displayNone Ecampus displayNone displayNone Intranet displayNone displayNone Courses displayNone displayNone Capacity Development and Skills Enhancement Initiatives displayNone Parents displayNone CEP displayNone DCEI displayNone displayNone Proforma for Inspection by UGC displayNone displayNone Committees displayNone displayNone Anti-Ragging Committee displayNone displayNone DA-IICT Lecture Series displayNone Synapse displayNone displayNone Concours displayNone Group Website Choose a Group Website: ----------- Group Webs', metadata={'source': '/content/drive/MyDrive/daiict_webCrawl self data with chromadb private gpt/web crawl_DAIICT/docs/daiict.ac.in/daiict.ac.in_alumni_testimonials.txt'}),\n",
              " 0.7253406643867493)"
            ]
          },
          "metadata": {},
          "execution_count": 16
        }
      ]
    },
    {
      "cell_type": "markdown",
      "source": [
        "***Generating multiple responses through retriever***"
      ],
      "metadata": {
        "id": "8vmmWuCV3stN"
      }
    },
    {
      "cell_type": "code",
      "source": [
        "query = \"What is the B.Tech curriculum?\"\n",
        "#query = \"What are the placement statistics?\"\n",
        "retriever.get_relevant_documents(query)"
      ],
      "metadata": {
        "colab": {
          "base_uri": "https://localhost:8080/"
        },
        "id": "5q3YCw8g3hm7",
        "outputId": "db994acc-02d5-4125-cec6-911ab3bd80b9"
      },
      "execution_count": null,
      "outputs": [
        {
          "output_type": "execute_result",
          "data": {
            "text/plain": [
              "[Document(page_content='BTech (ICT) Curriculum 2016 Summary Report Dhirubhai Ambani Institute of Information and Communication Technology Near Indroda Circle, Gandhinagar, Gujarat, India. 382007 Tel: +91 7930520000 | Fax: +91 7930520010 | Web: www.daiict.ac.in 1 Summary DA-IICT offers a unique four-year undergraduate program leading to the degree of Bachelor of Technology in Information and Communication Technology - BTech(ICT). The pedagogy of ICT discipline should make a well-integration of Information Technology, Communication Technology, Electronics Engineering and Social Sciences courses, which a student cannot be trained in conventional Computer Science and Engineering or Electronics and Communication Engineering alone. The curriculum review process, started in July 2015, went through intensive interactions amongst specialized groups of faculty, formal meetings with faculty at large, discussion with external experts and multiple rounds of brain storming within the BTCRC. The entire exercise has been lasting close to a year. Structurally there is no major change in the revised curriculum. The curriculum is broadly classified into 3 categories of courses. The first category, referred to as Foundation, is a set of compulsory courses required to be taken by every student in the program. The next one is formed by a set of courses, referred to as the Electives, which adds to both the technical strength and humanities and social science skills of the program. The third one is composed of internships and BTech project (BTP). The curriculum provides students a multi- track option, where a student can acquire knowledge in breadth as well as depth in multiple tracks through an appropriate choice of elective courses, where electives could be in the four forms: ICT, Technical, Science and Open. The ICT electives provide expertise in courses which have components of computer systems and communication tracks; the Technical electives primarily provide expertise in some particular track; the Science electives provide expertise in basic sciences; and the Open electives belong to humanities, social sciences and management courses. Like previous curriculum structure, the revised curriculum has provision of mandatory rural internship and research/industrial internship. The student is also required to take at least a semester long BTech project (BTP) between 7th and 8th semester. The curriculum accommodates 175 credits, out of which 152 credits for courses and 23 credits for internships and project work. Out of the 152 required coursework credits, 111 credits are allocated to compulsory courses', metadata={'source': '/content/drive/MyDrive/daiict_webCrawl self data with chromadb private gpt/web crawl_DAIICT/docs/daiict.ac.in/daiict.ac.in_sites_default_files_Annexure_II.pdf.pdf'}),\n",
              " Document(page_content=' The institute offers FOUR undergraduate programs, Bachelor of Technology (B.Tech.) , a four-year (eight semesters) of duration, leading to the degrees of 1. Bachelor of Technology in Information and Communication Technology – B.Tech. (ICT) 2. Bachelor of Technology (Honours) in ICT with minor in Computational Science – B.Tech. (Honours) in ICT with minor in Computational Science 3. Bachelor of Technology in Mathematics and Computing – B.Tech. (MnC) 4. Bachelor of Technology in Electronics and VLSI Design - B.Tech. (EVD) The curricula in all our undergraduate programs are structured with foundational courses, elective courses in different kinds and internships/project work. The institute sees itself as a civic institution deeply committed to seeing its students as responsible citizens. Its social sciences courses, its variety of internships are designed to increase social commitment and competence as citizens understanding the nature of societal and organizational needs. M.Tech. (ICT) M.Tech. (EC) M.Sc. (IT) M.Sc. (Agriculture Analytics) M.Sc. (Data Science) M.Des. (Communication Design) DA-IICT has played a pioneering role in developing innovative undergraduate programs in Information and Communication Technology (ICT) in India since 2001. The pedagogy of ICT discipline should make a well-integration of Information Technology, Communication Technology, Electronics Engineering and Social Sciences courses with a solid grounding in Mathematics and Science, Humanities and Social Sciences, which a student cannot be trained in conventional Computer Science & Engineering or Electronics and Communication Engineering alone. In recent times, the institute has introduce another undergraduate program in Mathematics and Computing (MnC) that provides a strong foundation in Mathematics, Statistics and Computer Science followed by interdisciplinary electives and project works in industry relevant areas. The institute offers FOUR undergraduate programs, Bachelor of Technology (B.Tech.) , a four-year (eight semesters) of duration, leading to the degrees of 1. Bachelor of Technology in Information and Communication Technology – B.Tech. (ICT) 2. Bachelor of Technology (Honours) in ICT with minor in Computational Science – B.Tech. (Honours) in ICT with minor in Computational Science 3. Bachelor of Technology in Mathematics and Computing – B.Tech. (MnC) 4. Bachelor of Technology in Electronics and', metadata={'source': '/content/drive/MyDrive/daiict_webCrawl self data with chromadb private gpt/web crawl_DAIICT/docs/daiict.ac.in/daiict.ac.in_index.php_programs_of_study_tab_2.txt'}),\n",
              " Document(page_content=' students a feel for their research ability in an area of their choice. The curriculum also includes a mandatory rural internship and a mandatory summer research/industrial internship. Finally, a student is required to take at least a semester long BTech Project (BTP) during which the students demonstrate their ability in using the knowledge and skills acquired during the program. The semester-wise structure of the curriculum is as follows: The course structure of the curriculum is broadly classified into 3 categories. Foundation Courses These are a set of compulsory/core courses required to be taken by every student enrolled in the program. Majority of foundation courses are offered in the first five semesters. These courses are from the technical areas of Computer Science and Information Technology (8 courses), Electronics and Communication (8 courses), as well as courses in Humanities and Social Sciences (4 courses), Mathematics and Basic Sciences (8 courses). A student earns 111 credits from these 28 Foundation courses. MnC Electives Courses Courses of this category add to both the technical strength and humanities and social science skills of the students belonging to this program. The curriculum provides students a multi-track option, where a student can acquire knowledge in breadth as well as depth in multiple tracks through an appropriate choice of elective courses. A student is expected to earn 41 credits from these types of electives. Internships and BTech project (BTP) A unique feature of the programs is the mandatory rural internship, which is expected to give the student a feel of his/her social milieu and is typically carried out with an NGO working in/for a rural setup. Its duration is of 3-4 weeks in the winter vacation falling after 3rd semester. After the completion of foundation courses, the student is required to take a 6-8 week Industrial/Research Internship. The student has a choice of taking an industrial internship or a research internship depending on his/her career goals. It is scheduled in the summer vacation falling after 6thsemester. Finally, the student is required to take a B.Tech. Project, during which he/she is required to demonstrate his/her ability to learn current areas of research and/or industrial interest, his/her ability to utilize the topics he/she has learnt during his/her stint in the program and his/her creative and design abilities. Usually this is done in the final semester, but it may be taken as a split BTP starting in 7th semester and concluding in the 8', metadata={'source': '/content/drive/MyDrive/daiict_webCrawl self data with chromadb private gpt/web crawl_DAIICT/docs/daiict.ac.in/daiict.ac.in_index.php_btech_mnc.txt'}),\n",
              " Document(page_content=' (Honours) in ICT B.Tech. (Honours) in ICT with minor in Robotics and Autonomous Systems ICT embodies the convergence of Computer and Communication systems and has obtained wide acceptance as a distinct discipline. It is also expected that ICT graduates would enjoy a special niche only if they have certain performance capabilities not found in conventional CSE and/or ECE graduates. Logically this convergence takes place at the systems level, but at the same time it is necessary to accept a certain level of granularity as one goes down to the level of circuits, devices and materials. All programs are designed to operate on a semester-based framework that follows choice-based credit system. The B.Tech. (ICT) program provides a lot of flexibility and choice to students. Students may choose to do more coursework and graduate with (a) B.Tech. (Honours) in ICT Apart from satisfying all credit/course/internship/project requirements stipulated for the B.Tech. (ICT) program, the B.Tech. (Honours) in ICT requires a student to complete a minimum of 15 additional credits (and a minimum of five additional courses) in the form of electives. The electives available for the Honours program shall be specified by the Dean-AP, and the flexibility to choose honours qualified elective courses starts from the fourth semester of the program. The students do not have to sign up for this program, and any student who meets the criteria listed below at the time of graduation will be conferred with the B.Tech. (Honours) in ICT degree. All requirements for B.Tech. (ICT) program Additional minimum 5 designated courses/15 credits. Passed in these additional 5 courses. Minimum final CPI of 6.5. (b) B.Tech. (Honours) in ICT with Minor in a Particular Area Depending on the faculty resources and student interest, the institute offers a Minor in a particular area to students of the B.Tech. (ICT) program. This will enable students to pursue an in-depth study into an area within ICT or get introduced to an area which complements ICT. Apart from satisfying all credit/course/internship/project requirements stipulated for the B.Tech(ICT) program, the B.Tech. (Honours) in ICT with Minor requires a student to complete a minimum of 15 additional credits (and a', metadata={'source': '/content/drive/MyDrive/daiict_webCrawl self data with chromadb private gpt/web crawl_DAIICT/docs/daiict.ac.in/daiict.ac.in_index.php_btech_ict.txt'})]"
            ]
          },
          "metadata": {},
          "execution_count": 19
        }
      ]
    },
    {
      "cell_type": "code",
      "source": [],
      "metadata": {
        "id": "B1oaGvq63_c-"
      },
      "execution_count": null,
      "outputs": []
    },
    {
      "cell_type": "markdown",
      "source": [
        "## Daiict all-MiniLM-L6-v2 model TikToken 1000 tokens"
      ],
      "metadata": {
        "id": "s3JQkGc84nCy"
      }
    },
    {
      "cell_type": "code",
      "source": [
        "persist_directory = \"AllMini_Chroma_Tik_1000\"\n",
        "CHROMA_SETTINGS = Settings(\n",
        "        chroma_db_impl='duckdb+parquet',\n",
        "        persist_directory=persist_directory,\n",
        "        anonymized_telemetry=False\n",
        ")"
      ],
      "metadata": {
        "id": "2FqK62Cj4osA"
      },
      "execution_count": null,
      "outputs": []
    },
    {
      "cell_type": "code",
      "source": [
        "db = Chroma(persist_directory=persist_directory, embedding_function=embeddings, client_settings=CHROMA_SETTINGS)"
      ],
      "metadata": {
        "id": "4LkPDrfp4tWt"
      },
      "execution_count": null,
      "outputs": []
    },
    {
      "cell_type": "markdown",
      "source": [
        "**Similarity search with score**"
      ],
      "metadata": {
        "id": "xQpWvc-s4zwu"
      }
    },
    {
      "cell_type": "markdown",
      "source": [
        "Question1"
      ],
      "metadata": {
        "id": "m7ECtc2s40ys"
      }
    },
    {
      "cell_type": "code",
      "source": [
        "query = \"what is the B.Tech curriculum?\"\n",
        "docs = db.similarity_search_with_score(query)\n",
        "docs[0]"
      ],
      "metadata": {
        "colab": {
          "base_uri": "https://localhost:8080/"
        },
        "id": "Cn_88kmb4v6X",
        "outputId": "0ba2a41f-65de-45e0-b41d-124f192c1acc"
      },
      "execution_count": null,
      "outputs": [
        {
          "output_type": "execute_result",
          "data": {
            "text/plain": [
              "(Document(page_content=' are as follows : Program Sl. No. B Tech (ICT)* M Tech (ICT) M Des (CD) Date of approval. 02 July 2008 02 July 2008 05 Sept 2009 MSc (ICT ARD) 08 Jan 2010 B Tech (ICT-CS) 05 April 2013 MSc (IT) Ph D 12 Jan 2013 31 July 2014 1. 2. 3. 4. 5. 6. 7. * B Tech (ICT) review on-going in the year 2015. 5.3 Whether approval of statutory bodies such as Board of Studies, Academic Council and Board of Management of the University has been taken to start various courses? If yes, please enclose extracts of the minutes. YES. Refer Annexure V for extracts from the minutes of the Academic Council. 5.4 Furnish details of the following aspects of curriculum design: Innovation such as modular curricula Inter/multi-disciplinary approach itself captures interdisciplinary The curricula of our programmes have a strong flavor of interdisciplinary characteristic, as Information Technology, ICT Communications Technology and Electronics Engineering. Furthermore, the curriculum of UG and PG programmes involves innovative strands from Humanities and Social Science courses, namely, Cultural Studies, Art and Science Fiction, Management, Finance, Economics and Environment, Animation, Film, Design, Graphic Design and Multimedia systems. curricula of The curriculum offers opportunity to all students to pick-and-choose courses that stimulate their intellectual capital and challenge their innovative strengths from the basket of elective courses of all sorts, technical (focused towards the state-of-the-art and their 15 UGC Proforma for Inspection professional career-oriented), science (explorative and investigative) and open (societal, indirectly thought provoking, sensitive) elective courses. Many courses are taught in a modular form, where one module finishes and the assessment of the students is completed, and then the next module starts. In particular, the courses in humanities and social sciences, design projects, communication skills follow modular approach. For details on curriculum design refer Annexure VI. 5.5 Has the University conducted an academic audit? If yes, please give details regarding frequency and its usage. Academic Council (AC) and Board of Studies (BoS) are two statutory bodies of the institute who monitor the academic growth periodically. The academic progression of all programs of DAIICT is conducted continuously through discussions in the Under Graduate (UG) and Post Graduate (PG) Programme Committees of the institute. Ideas and suggestions arising out of such deliberations are minuted and brought before the Board of Studies (BoS) and Academic Council (AC) for further consideration. Based on the approval from BoS and AC, any course curriculum may undergo changes vis a vis its content, mode of delivery, inclusion of practical components, method of evaluation etc. Meeting of the BoS and AC are organized at least once in each semester. The Institute has constituted its Internal Quality Assurance Cell (IQAC) which assesses academic performance of the institute and suggests appropriate modifications. IQAC is supposed to look after the appropriateness of the infrastructure for smooth running of the institute. Any modification suggested by IQAC is implemented by the offices of Dean-AP and the Registrar. 5.6 Apart from classroom instruction, what are the other avenues of learning provided for the students? (Example: Projects, Internships, Field trainings, Seminars etc.) The curriculum at DA-IICT is a blend of technology, basic science, humanities, social sciences, language and mathematics. The rigour at which these courses are dealt with is quite holistic and aims towards moulding our graduates with capabilities which can fit them in any challenging career pathway. Being the premier ICT institute in the country, the Institute is very proactive in incorporating the new techniques of e-learning resources in the academic practices. Our Resource Centre has a rich collection of e-resources – National Programme on Technology Enhanced Learning (NPTEL) lectures materials, e- journals of all leading publishers, special lecture series on various ICT domains archived in DVD/CD, and communication language materials. 16 UGC Proforma for Inspection Most of the laboratory courses use extensively open source tools and e-resources of other forms in the respective courses, based on the concerned course instructor’s course policy. The course content and lecture materials of all courses are posted on respective faculty’s folder on institute’s intranet. Many of our students use e-books and enrol in online courses, e.g., MOOC, Coursera. Besides, students are also encouraged to participate in national/international level online contest such as programming ACM ICPC, Microsoft Imagine Cup, IBM TGMC, Google summer of code, etc, by which they get useful exposure and visualize on how one can make the effective use of e-resources from classroom learning to real-world practice. Each BTech course (with lab/tutorial) has a number', metadata={'source': '/content/drive/MyDrive/daiict_webCrawl self data with chromadb private gpt/web crawl_DAIICT/docs/daiict.ac.in/daiict.ac.in_sites_default_files_UGCproforma_30Dec2015.pdf.pdf'}),\n",
              " 0.7585474252700806)"
            ]
          },
          "metadata": {},
          "execution_count": 22
        }
      ]
    },
    {
      "cell_type": "code",
      "source": [],
      "metadata": {
        "id": "ZGcfhUrg44L1"
      },
      "execution_count": null,
      "outputs": []
    },
    {
      "cell_type": "markdown",
      "source": [
        "## Daiict all-MiniLM-L6-v2 model RecursiveTextSplitter 1000 tokens"
      ],
      "metadata": {
        "id": "lKKzrgPe5Gw2"
      }
    },
    {
      "cell_type": "code",
      "source": [
        "persist_directory = \"AllMini_Chroma_Rec_1000\"\n",
        "CHROMA_SETTINGS = Settings(\n",
        "        chroma_db_impl='duckdb+parquet',\n",
        "        persist_directory=persist_directory,\n",
        "        anonymized_telemetry=False\n",
        ")"
      ],
      "metadata": {
        "id": "9VDEC2HT5MM5"
      },
      "execution_count": null,
      "outputs": []
    },
    {
      "cell_type": "code",
      "source": [
        "db = Chroma(persist_directory=persist_directory, embedding_function=embeddings, client_settings=CHROMA_SETTINGS)"
      ],
      "metadata": {
        "id": "jxZnYqgC96Yu"
      },
      "execution_count": null,
      "outputs": []
    },
    {
      "cell_type": "code",
      "source": [
        "query = \"what is the B.Tech curriculum?\"\n",
        "docs = db.similarity_search_with_score(query)\n",
        "docs[0]"
      ],
      "metadata": {
        "colab": {
          "base_uri": "https://localhost:8080/"
        },
        "id": "fAyGamK89_r3",
        "outputId": "15fcebdd-20bd-4d1e-8699-c9c7ffe8c6a9"
      },
      "execution_count": null,
      "outputs": [
        {
          "output_type": "execute_result",
          "data": {
            "text/plain": [
              "(Document(page_content='expected to give students a feel for their research ability in an area of their choice. The curriculum also includes a mandatory rural internship and a mandatory summer research/industrial internship. Finally, a student is required to take at least a semester long BTech Project (BTP) during which the students demonstrate their ability in using the knowledge and skills acquired during the program. The semester-wise structure of the curriculum is as follows: The course structure of the curriculum is broadly classified into 3 categories. Foundation Courses These are a set of compulsory/core courses required to be taken by every student enrolled in the program. Majority of foundation courses are offered in the first five semesters. These courses are from the technical areas of Computer Science and Information Technology (8 courses), Electronics and Communication (8 courses), as well as courses in Humanities and Social Sciences (4 courses), Mathematics and Basic Sciences (8 courses). A', metadata={'source': '/content/drive/MyDrive/daiict_webCrawl self data with chromadb private gpt/web crawl_DAIICT/docs/daiict.ac.in/daiict.ac.in_index.php_btech_mnc.txt'}),\n",
              " 0.7477074265480042)"
            ]
          },
          "metadata": {},
          "execution_count": 25
        }
      ]
    },
    {
      "cell_type": "code",
      "source": [
        "query = \"what are the placement statistics?\"\n",
        "docs = db.similarity_search_with_score(query)\n",
        "docs[0]"
      ],
      "metadata": {
        "colab": {
          "base_uri": "https://localhost:8080/"
        },
        "id": "WHnT894Q-De5",
        "outputId": "ae8eec8b-5b23-4b15-f676-c05c35fe0890"
      },
      "execution_count": null,
      "outputs": [
        {
          "output_type": "execute_result",
          "data": {
            "text/plain": [
              "(Document(page_content='- 2015 Evidence of Success Provide evidence of success such as performance against targets and benchmarks, review results. What do these results indicate? Describe in about 200 words. The results of these activities have been seen in the placement statistics of DA- IICT. The Institute has seen an ever increasing number of placements, and many students have attributed their success to the pre-placement activities conducted by the institute. Detailed scores and analysis given after each test and activity help the student review their progress. The students have appreciated these activities as they help in increasing their confidence. And the improvement has indeed been seen. Students have become familiar with the group discussion etiquette and are better able to put their ideas across the table. This thorough process prepares the students for the actual placements, so that they are not completely at sea during the process. Problems Encountered and Resources Required Please identify the', metadata={'source': '/content/drive/MyDrive/daiict_webCrawl self data with chromadb private gpt/web crawl_DAIICT/docs/daiict.ac.in/daiict.ac.in_sites_default_files_NAAC_Self_Study_Report.pdf.pdf'}),\n",
              " 0.8165770173072815)"
            ]
          },
          "metadata": {},
          "execution_count": 26
        }
      ]
    },
    {
      "cell_type": "code",
      "source": [
        "query = \"Name cse professors\"\n",
        "docs = db.similarity_search_with_score(query)\n",
        "docs[0]"
      ],
      "metadata": {
        "id": "8Enmmlbz-HW5",
        "outputId": "de066dae-f079-433c-fcca-a2dc9b0c4e41",
        "colab": {
          "base_uri": "https://localhost:8080/"
        }
      },
      "execution_count": null,
      "outputs": [
        {
          "output_type": "execute_result",
          "data": {
            "text/plain": [
              "(Document(page_content='(Research) Dean (R&D) Associate Dean (R&D) Dean Students Finance Committee IQAC Academics Academic Administration Board Of Studies Grievance Redressal Cell Programs of Study UG Programs PG Programs Doctoral Program Deans Office Faculty Academic Calendar Courses at Moodle Research Research Overview Deans Office Areas Communications and Signal Processing Algorithms and Theory of Computation VLSI & Embedded Systems Physics and Mathematical Sciences AI, ML and Data Science Software Systems and Networking Humanities, Social Sciences and Design Sponsored Projects Faculty Achievements Publications Theses and Reports Admissions Undergraduate Admissions Postgraduate Admissions Doctoral Program Scholarships Resource Centre Placements About Placements Placement News & Updates Careers Faculty Positions Faculty on Tenure Faculty on Contract Need based Faculty on Contract Postdoc Positions Project Positions Staff Positions Faculty Breadcrumb Home Faculty Bhaskar Chaudhury PhD (Computational Plasma', metadata={'source': '/content/drive/MyDrive/daiict_webCrawl self data with chromadb private gpt/web crawl_DAIICT/docs/daiict.ac.in/daiict.ac.in_faculty_details_243.txt'}),\n",
              " 0.9745270013809204)"
            ]
          },
          "metadata": {},
          "execution_count": 27
        }
      ]
    },
    {
      "cell_type": "markdown",
      "source": [
        "## Daiict all-Mpnet-Base model TikToken 500 tokens"
      ],
      "metadata": {
        "id": "Y8yICMgg0BaP"
      }
    },
    {
      "cell_type": "code",
      "source": [
        "embeddings = HuggingFaceEmbeddings(model_name='sentence-transformers/all-mpnet-base-v2')"
      ],
      "metadata": {
        "id": "IoanI4G9-LP9"
      },
      "execution_count": null,
      "outputs": []
    },
    {
      "cell_type": "code",
      "source": [
        "persist_directory = \"AllMpnet_Chroma_Tik_500\"\n",
        "CHROMA_SETTINGS = Settings(\n",
        "        chroma_db_impl='duckdb+parquet',\n",
        "        persist_directory=persist_directory,\n",
        "        anonymized_telemetry=False\n",
        ")"
      ],
      "metadata": {
        "id": "w5sOD08N0Lzh"
      },
      "execution_count": null,
      "outputs": []
    },
    {
      "cell_type": "code",
      "source": [
        "db = Chroma(persist_directory=persist_directory, embedding_function=embeddings, client_settings=CHROMA_SETTINGS)"
      ],
      "metadata": {
        "id": "6QX7jdz60Pl9"
      },
      "execution_count": null,
      "outputs": []
    },
    {
      "cell_type": "markdown",
      "source": [
        "Question:1"
      ],
      "metadata": {
        "id": "pYBj2_tL0jRU"
      }
    },
    {
      "cell_type": "code",
      "source": [
        "query = \"what are the placement statistics?\"\n",
        "docs = db.similarity_search_with_score(query)\n",
        "docs[0]"
      ],
      "metadata": {
        "colab": {
          "base_uri": "https://localhost:8080/"
        },
        "id": "Bfk1YkMl0dfW",
        "outputId": "38842658-a508-4990-8459-3e0b9d3e1998"
      },
      "execution_count": null,
      "outputs": [
        {
          "output_type": "execute_result",
          "data": {
            "text/plain": [
              "(Document(page_content=' Infibeam Infosys Kuliza Maxim Integrated Meditab Metisme Morgan Stanley Total Offers 3 1 2 3 3 5 24 4 1 3 4 1 4 2 2 2 2 4 1 2 3 21 4 4 6 1 4 Dhirubhai Ambani Institute of Information and Communication Technology 241 NAAC Self Study Report - 2015 28 29 30 31 32 33 34 35 36 37 38 39 40 41 42 43 44 Mu Sigma Open Silicon OpsHub Oracle PGBU Oracle Primavera Oracle RGBU Parul Group of Institutes Play Games 24x7 Qualcomm Saba Softwares Samsung Sapient Nitro TCS The Gate Academy Verse Voxta Comm ZS Associates Total Placement Summary Total Number of Students Placed Total Number of Students Not Placed (But Eligible) Total Number of Interested Students Total Eligible Students Total Number of Eligible & Interested Students 8 7 3 2 1 1 3 2 7 8 4 19 38 4 1 1 12 237 205 70 344 304 301 Company Name Sr. No. 1 Amazon 2 Capillary Technologies 3 Cybage 4 Deloitte 5 DirectI 6 E-infochips 7 Evosys Flipkart 8 Futures First 9 10 Google 11 GSFC 12 HP 13 14 15 16 Kuliza 17 MorganStanley 18 Mu-Sigma Impetus Infosys Ishi Systems 2013-14 Total Offers 5 5 5 28 2 2 7 1 2 1 3 4 4 34 1 2 3 8 Dhirubhai Ambani Institute of Information and Communication Technology 242 NAAC Self Study Report - 2015 19 OFSS 20 OpsHub 21 Oracle 22 Oracle PGBU 23 Qualcomm 24 Saba Softwares 25 Samsung 26 Sapient 27 Sprinklr 28 Success Factors 29 TCS 30 WIPRO 31 Yahoo 32 ZS Associates Total 4 3 2 3 6 5 5 5 13 1 35 4 3 4 210 Placement Summary Total Number of Students Placed Total Number of Students Not Placed (But Eligible & Interested) Total Number of Interested Students Total Eligible Students Total Number of Eligible & Interested Students 187 98 353 280 279 2014-15 Sr. No. 1 2 3 4 5 6 7 8 9 10 11 12 13 14 15 16 17 18 19 20 21 22 Company Name AKRSP (I) Amazon American Foundation Aspiring Minds Bitmapper Cignex Deloitte Direct I E-Infochips Evosys Flipkart Future First Infoservices Grit', metadata={'source': '/content/drive/MyDrive/daiict_webCrawl self data with chromadb private gpt/web crawl_DAIICT/docs/daiict.ac.in/daiict.ac.in_sites_default_files_NAAC_Self_Study_Report.pdf.pdf'}),\n",
              " 0.8227304220199585)"
            ]
          },
          "metadata": {},
          "execution_count": 11
        }
      ]
    },
    {
      "cell_type": "code",
      "source": [],
      "metadata": {
        "id": "bzDpVUpB0lW4"
      },
      "execution_count": null,
      "outputs": []
    }
  ]
}